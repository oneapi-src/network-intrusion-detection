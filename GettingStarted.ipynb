{
 "cells": [
  {
   "cell_type": "markdown",
   "id": "46168481",
   "metadata": {},
   "source": [
    "## **Reference Implementation**\n",
    "\n",
    "### ***E2E Architecture***\n",
    "\n",
    "![Use_case_flow](assets/e2e_flow.png)\n"
   ]
  },
  {
   "cell_type": "markdown",
   "id": "82fb718b",
   "metadata": {},
   "source": [
    "### ***Solution setup***\n",
    "\n",
    "Use the following cell to change to the correct kernel. Then check that you are in the `networkintrusiondetection_stock` kernel. If not, navigate to `Kernel > Change kernel > Python [conda env:networkintrusiondetection_stock]`. Note that the cell will remain with * but you can continue running the following cells."
   ]
  },
  {
   "cell_type": "code",
   "execution_count": null,
   "id": "d694db52",
   "metadata": {},
   "outputs": [],
   "source": [
    "%%javascript\n",
    "Jupyter.notebook.session.restart({kernel_name: 'conda-env-networkintrusiondetection_stock-py'})"
   ]
  },
  {
   "cell_type": "markdown",
   "id": "d4cc954c",
   "metadata": {},
   "source": [
    "Download 2021.02.17.csv file from URL: https://www.kaggle.com/datasets/mryanm/luflow-network-intrusion-detection-data-set\n",
    "and save it to `data` folder."
   ]
  },
  {
   "cell_type": "markdown",
   "id": "8221af53",
   "metadata": {},
   "source": [
    "Once we have downloaded the data, we can view a few samples."
   ]
  },
  {
   "cell_type": "code",
   "execution_count": null,
   "id": "27d6fbce",
   "metadata": {},
   "outputs": [],
   "source": [
    "import pandas as pd\n",
    "data = pd.read_csv(\"data/2021/02/2021.02.17/2021.02.17.csv\")\n",
    "data.tail()"
   ]
  },
  {
   "cell_type": "markdown",
   "id": "bfcfbc28",
   "metadata": {},
   "source": [
    "### ***Solution implementation***\n",
    "\n",
    "#### **Dataset Preprocessing**\n",
    "\n",
    "To remove the rows with empty values from the downloaded CSV file, the below script has to be run:\n",
    "\n",
    "```shell\n",
    "python src/data_prep.py [-i inputfile] [-o outputfilepath]  \n",
    "```\n",
    "An example of using the above script is as below:\n",
    "```\n",
    "conda activate networkintrusiondetection_stock\n",
    "python src/data_prep.py -i data/2021.02.17.csv\n",
    "```"
   ]
  },
  {
   "cell_type": "code",
   "execution_count": null,
   "id": "7d6ff918",
   "metadata": {},
   "outputs": [],
   "source": [
    "%%javascript\n",
    "Jupyter.notebook.session.restart({kernel_name: 'conda-env-networkintrusiondetection_stock-py'})"
   ]
  },
  {
   "cell_type": "code",
   "execution_count": null,
   "id": "222e30d1",
   "metadata": {},
   "outputs": [],
   "source": [
    "!python src/data_prep.py -i data/2021/02/2021.02.17/2021.02.17.csv"
   ]
  },
  {
   "cell_type": "markdown",
   "id": "cfd8b0f3",
   "metadata": {},
   "source": [
    "Inspect generated data."
   ]
  },
  {
   "cell_type": "code",
   "execution_count": null,
   "id": "f543a7eb",
   "metadata": {},
   "outputs": [],
   "source": [
    "import pandas as pd\n",
    "data = pd.read_csv(\"data/data.csv\")\n",
    "data.tail()"
   ]
  },
  {
   "cell_type": "markdown",
   "id": "1eb178c6",
   "metadata": {},
   "source": [
    "#### **Model building process**\n",
    "\n",
    "This Network Intrusion Detection System uses NuSVC from the sci-kit learn library to train an AI model and generate labels by classification for the passed in data.  This process is captured within the `run_benchmarks.py` script. This script *reads and preprocesses the data*, and *performs training, predictions, and hyperparameter tuning analysis on NuSVC*, while also reporting on the execution time for all the mentioned steps(we will use this information later when we are optimizing the implementation for Intel® architecture).  Furthermore, this script can also save each of the intermediate models for an in-depth analysis of the quality of fit.  \n",
    "\n",
    "The script takes the following arguments:\n",
    "\n",
    "```shell\n",
    "usage: \n",
    "python src/run_benchmarks.py [-d DATASET] [-a algorithm] [-l logfile]\n",
    "optional arguments:\n",
    "  -l, --logfile,           Log file to output benchmarking results\n",
    "\n",
    "  -i , --intel,            Use intel accelerated technologies where available\n",
    "                        \n",
    "  -t , --hp tuning,         If hyperparameter tuning to be done  \n",
    "\n",
    "  -a , --algo,             Name of the algorithm to be used (svc,nusvc,lr)  \n",
    "                      \n",
    "  -d , --datasetsize,      Dataset size for training\n",
    "\n",
    "  -c , --inputcsvpath,     Path to the input csv file\n",
    "```                   \n",
    "\n",
    "As an example of using this, we can run the following commands to train and save NuSVC models. (To run Training with stock python and stock technologies for data size 300K, we would run):\n",
    "```shell\n",
    "conda activate networkintrusiondetection_stock\n",
    "python src/run_benchmarks.py -d 300000 --algo nusvc -c data/data.csv\n",
    "```"
   ]
  },
  {
   "cell_type": "code",
   "execution_count": null,
   "id": "596a383f",
   "metadata": {},
   "outputs": [],
   "source": [
    "%%javascript\n",
    "Jupyter.notebook.session.restart({kernel_name: 'conda-env-networkintrusiondetection_stock-py'})"
   ]
  },
  {
   "cell_type": "code",
   "execution_count": null,
   "id": "f56bab93",
   "metadata": {},
   "outputs": [],
   "source": [
    "!mkdir -p ./models"
   ]
  },
  {
   "cell_type": "code",
   "execution_count": null,
   "id": "ead45dea",
   "metadata": {},
   "outputs": [],
   "source": [
    "!python src/run_benchmarks.py -d 300000  --algo nusvc -c data/data.csv"
   ]
  },
  {
   "cell_type": "markdown",
   "id": "edd7659a",
   "metadata": {},
   "source": [
    "In a realistic pipeline, this training process would follow the above diagram, adding a human in the loop to determine the quality of the classification solution from each of the saved models/predictions in the `saved_models` directory, or better, while tuning the model.  The quality of a classification solution is highly dependent on the human analyst and they have the ability to not only tune hyper-parameters but also modify the features being used to find better solutions."
   ]
  },
  {
   "cell_type": "markdown",
   "id": "50d02ebb",
   "metadata": {},
   "source": [
    "#### **Running classification Analysis/Predictions**\n",
    "\n",
    "To run the batch and real-time inference with stock, we would run (after creating the appropriate environment as above):\n",
    "```shell\n",
    "python src/inference.py -m models/NuSVC_model.sav -c data/data.csv -d 10000\n",
    "```"
   ]
  },
  {
   "cell_type": "code",
   "execution_count": null,
   "id": "81f05649",
   "metadata": {},
   "outputs": [],
   "source": [
    "!python src/inference.py -m models/NuSVC_model.sav -c data/data.csv -d 10000"
   ]
  },
  {
   "cell_type": "markdown",
   "id": "baaf4c38",
   "metadata": {},
   "source": [
    "**Hyperparameter tuning**\n",
    "\n",
    "***Loop Based Hyperparameter Tuning***\n",
    "\n",
    "It is used to apply the fit method to train and optimize by applying different parameter values in loops to get the best Silhouette score and thereby a better performing model.\n",
    "\n",
    "**Parameters Considered**\n",
    "\n",
    "| **Parameter** | **Description** | **Values**\n",
    "| :-- | :-- | :-- \n",
    "| `kernel` | Kernel | poly,rbf\n",
    "| `gamma` | Max iteration value | 1e-4\n",
    "\n",
    "To run Hyperparameter tuning with stock python and stock technologies, we would run (after creating the appropriate environment):\n",
    "```shell\n",
    "python src/run_benchmarks.py -t 1 -d 300000 --algo nusvc  -c data/data.csv\n",
    "```"
   ]
  },
  {
   "cell_type": "code",
   "execution_count": null,
   "id": "c9416df1",
   "metadata": {},
   "outputs": [],
   "source": [
    "!python src/run_benchmarks.py -t 1 -d 300000 --algo nusvc  -c data/data.csv"
   ]
  },
  {
   "cell_type": "markdown",
   "id": "2cdbefc4",
   "metadata": {},
   "source": [
    "To run the batch and real-time inference with the Stock environment, we would run (after creating the appropriate environment as above and using the saved model with Hp tuning with Stock env):\n",
    "```shell\n",
    "python src/inference.py --modelpath models/NUSVC_model_hp.sav -c data/data.csv -d 10000\n",
    "```"
   ]
  },
  {
   "cell_type": "code",
   "execution_count": null,
   "id": "b531508c",
   "metadata": {},
   "outputs": [],
   "source": [
    "!python src/inference.py --modelpath models/NUSVC_model_hp.sav -c data/data.csv -d 10000"
   ]
  },
  {
   "cell_type": "markdown",
   "id": "53595bb3",
   "metadata": {},
   "source": [
    "### ***Optimized E2E architecture with Intel® oneAPI components***\n",
    "\n",
    "![Use_case_flow](assets/e2e_flow_optimized.png)\n",
    "\n",
    "### ***Optimized Solution implementation***\n",
    "\n",
    "Optimizing the NuSVC solution with Intel® oneAPI is as simple as adding the following lines of code prior to calling the sklearn algorithms:\n",
    "\n",
    "```python\n",
    "from sklearnex import patch_sklearn\n",
    "patch_sklearn()\n",
    "```"
   ]
  },
  {
   "cell_type": "markdown",
   "id": "d7113d0d",
   "metadata": {},
   "source": [
    "**Change kernel to Python[conda env:networkintrusiondetection_intel]**"
   ]
  },
  {
   "cell_type": "code",
   "execution_count": null,
   "id": "7ebfba50",
   "metadata": {},
   "outputs": [],
   "source": [
    "%%javascript\n",
    "Jupyter.notebook.session.restart({kernel_name: 'conda-env-networkintrusiondetection_intel-py'})"
   ]
  },
  {
   "cell_type": "markdown",
   "id": "63066dba",
   "metadata": {},
   "source": [
    "#### **Model building process with Intel® optimizations**\n",
    "\n",
    "The run_benchmarks.py script is run by adding the `--intel` flag when running the training to enable the Intel flag. The same training process can be run, optimized with Intel® oneAPI as the sample code below. To run Training with Intel® python and Intel® technologies for data size 300K, we would run (after creating the appropriate environment as above):\n",
    "```shell\n",
    "conda activate networkintrusiondetection_intel\n",
    "python -m sklearnex src/run_benchmarks.py -i 1 -d 300000 --algo nusvc -c data/data.csv\n",
    "```"
   ]
  },
  {
   "cell_type": "code",
   "execution_count": null,
   "id": "52e70f46",
   "metadata": {},
   "outputs": [],
   "source": [
    "!python -m sklearnex src/run_benchmarks.py -i 1 -d 300000 --algo nusvc -c data/data.csv"
   ]
  },
  {
   "cell_type": "markdown",
   "id": "8505ac3d",
   "metadata": {},
   "source": [
    "To run the batch and real-time inference with Intel environment, we would run (after creating the appropriate environment as above and using the saved model trained with Intel env):\n",
    "```shell\n",
    "python -m sklearnex src/inference.py --i 1 --modelpath models/NuSVC_model.sav -c data/data.csv -d 10000\n",
    "```"
   ]
  },
  {
   "cell_type": "code",
   "execution_count": null,
   "id": "7cf1949a",
   "metadata": {},
   "outputs": [],
   "source": [
    "!python -m sklearnex src/inference.py --i 1 --modelpath models/NUSVC_model_hp.sav -c data/data.csv -d 10000"
   ]
  },
  {
   "cell_type": "markdown",
   "id": "f38d0e3e",
   "metadata": {},
   "source": [
    "**Hyperparameter tuning**\n",
    "\n",
    "**Parameters Considered**\n",
    "\n",
    "| **Parameter** | **Description** | **Values**\n",
    "| :-- | :-- | :-- \n",
    "| `kernel` | kernels | rbf,poly\n",
    "| `gamma` | Gamma Value | 1e-4\n",
    "\n",
    "To run Hyperparameter tuning with intel python and Intel technologies, we would run (after creating the appropriate environment as above):\n",
    "```shell\n",
    "python -m sklearnex src/run_benchmarks.py -i 1 -t 1 -d 300000 --algo nusvc -c data/data.csv\n",
    "```"
   ]
  },
  {
   "cell_type": "code",
   "execution_count": null,
   "id": "f1333393",
   "metadata": {},
   "outputs": [],
   "source": [
    "!python -m sklearnex src/run_benchmarks.py -i 1 -t 1 -d 300000 --algo nusvc -c data/data.csv"
   ]
  },
  {
   "cell_type": "markdown",
   "id": "0c56050a",
   "metadata": {},
   "source": [
    "To run the batch and real-time inference with Intel environment, we would run (after creating the appropriate environment and using the saved model with hyperparameter tuning with Intel env):\n",
    "```shell\n",
    "python -m sklearnex src/inference.py --i 1 --modelpath models/NUSVC_model_hp.sav -c data/data.csv -d 10000\n",
    "```"
   ]
  },
  {
   "cell_type": "code",
   "execution_count": null,
   "id": "e7ec6dd2",
   "metadata": {},
   "outputs": [],
   "source": [
    "!python -m sklearnex src/inference.py --i 1 --modelpath models/NUSVC_model_hp.sav -c data/data.csv -d 10000"
   ]
  },
  {
   "cell_type": "markdown",
   "id": "52501e39",
   "metadata": {},
   "source": [
    "### **Performance Experiments**"
   ]
  },
  {
   "cell_type": "markdown",
   "id": "3e2085fb",
   "metadata": {},
   "source": [
    "**Experiment**: Model is trained using `datasetsize=10000`. Following this, the model is used for inference. This trainig and inference process is repeated for 3 rounds."
   ]
  },
  {
   "cell_type": "markdown",
   "id": "14a22fca",
   "metadata": {},
   "source": [
    "**Change kernel to Python [conda env:networkintrusiondetection_stock]**"
   ]
  },
  {
   "cell_type": "code",
   "execution_count": null,
   "id": "d603e04d",
   "metadata": {},
   "outputs": [],
   "source": [
    "%%javascript\n",
    "Jupyter.notebook.session.restart({kernel_name: 'conda-env-networkintrusiondetection_stock-py'})"
   ]
  },
  {
   "cell_type": "markdown",
   "id": "a6accbaa",
   "metadata": {},
   "source": [
    "First, we make sure there are no logs"
   ]
  },
  {
   "cell_type": "code",
   "execution_count": null,
   "id": "c1179bfe",
   "metadata": {},
   "outputs": [],
   "source": [
    "!rm -rf ./logs"
   ]
  },
  {
   "cell_type": "markdown",
   "id": "7257cdc2",
   "metadata": {},
   "source": [
    "Run training with stock technologies"
   ]
  },
  {
   "cell_type": "code",
   "execution_count": null,
   "id": "1fde08d7",
   "metadata": {},
   "outputs": [],
   "source": [
    "import os\n",
    "import sys\n",
    "if not 'workbookDir' in globals():\n",
    "    import os\n",
    "    workbookDir = os.getcwd()\n",
    "\n",
    "\n",
    "from notebooks.utils import benchmarking_utils\n",
    "benchmarking_utils.run_training_benchmark(intel=False, iterations = 3) "
   ]
  },
  {
   "cell_type": "markdown",
   "id": "429fc3ae",
   "metadata": {},
   "source": [
    "Run inference with stock technologies"
   ]
  },
  {
   "cell_type": "code",
   "execution_count": null,
   "id": "a0655602",
   "metadata": {},
   "outputs": [],
   "source": [
    "import os\n",
    "import sys\n",
    "if not 'workbookDir' in globals():\n",
    "    import os\n",
    "    workbookDir = os.getcwd()\n",
    "\n",
    "\n",
    "from notebooks.utils import benchmarking_utils\n",
    "benchmarking_utils.run_inference_benchmark(intel=False, iterations = 3)"
   ]
  },
  {
   "cell_type": "markdown",
   "id": "f17f671b",
   "metadata": {},
   "source": [
    "**Change kernel to Python [conda env:networkintrusiondetection_intel]**"
   ]
  },
  {
   "cell_type": "code",
   "execution_count": null,
   "id": "b802c892",
   "metadata": {},
   "outputs": [],
   "source": [
    "%%javascript\n",
    "Jupyter.notebook.session.restart({kernel_name: 'conda-env-networkintrusiondetection_intel-py'})"
   ]
  },
  {
   "cell_type": "markdown",
   "id": "13ea0494",
   "metadata": {},
   "source": [
    "Run training with intel technologies"
   ]
  },
  {
   "cell_type": "code",
   "execution_count": null,
   "id": "29486e31",
   "metadata": {},
   "outputs": [],
   "source": [
    "import os\n",
    "import sys\n",
    "if not 'workbookDir' in globals():\n",
    "    import os\n",
    "    workbookDir = os.getcwd()\n",
    "\n",
    "\n",
    "from notebooks.utils import benchmarking_utils\n",
    "benchmarking_utils.run_training_benchmark(intel=True, iterations = 3) "
   ]
  },
  {
   "cell_type": "markdown",
   "id": "74a232a1",
   "metadata": {},
   "source": [
    "Run inference with intel technologies"
   ]
  },
  {
   "cell_type": "code",
   "execution_count": null,
   "id": "48bae9f2",
   "metadata": {},
   "outputs": [],
   "source": [
    "import os\n",
    "import sys\n",
    "if not 'workbookDir' in globals():\n",
    "    import os\n",
    "    workbookDir = os.getcwd()\n",
    "\n",
    "\n",
    "from notebooks.utils import benchmarking_utils\n",
    "benchmarking_utils.run_inference_benchmark(intel=True, iterations = 3)"
   ]
  },
  {
   "cell_type": "markdown",
   "id": "a559eacd",
   "metadata": {},
   "source": [
    "Now, we can create tables and graphs to ilustrate the performance benefits in training and inference"
   ]
  },
  {
   "cell_type": "markdown",
   "id": "e9e0ffaa",
   "metadata": {},
   "source": [
    "Training performance"
   ]
  },
  {
   "cell_type": "code",
   "execution_count": null,
   "id": "8ef38eb3",
   "metadata": {},
   "outputs": [],
   "source": [
    "import os\n",
    "import sys\n",
    "if not 'workbookDir' in globals():\n",
    "    import os\n",
    "    workbookDir = os.getcwd()\n",
    "from notebooks.utils import benchmarking_utils\n",
    "benchmarking_utils.print_training_benchmark_table()"
   ]
  },
  {
   "cell_type": "code",
   "execution_count": null,
   "id": "287d0960",
   "metadata": {},
   "outputs": [],
   "source": [
    "import os\n",
    "import sys\n",
    "if not 'workbookDir' in globals():\n",
    "    import os\n",
    "    workbookDir = os.getcwd()\n",
    "from notebooks.utils import benchmarking_utils\n",
    "benchmarking_utils.print_training_benchmark_bargraph()"
   ]
  },
  {
   "cell_type": "markdown",
   "id": "5f511be9",
   "metadata": {},
   "source": [
    "Inference performance"
   ]
  },
  {
   "cell_type": "code",
   "execution_count": null,
   "id": "6bf24b79",
   "metadata": {},
   "outputs": [],
   "source": [
    "import os\n",
    "import sys\n",
    "if not 'workbookDir' in globals():\n",
    "    import os\n",
    "    workbookDir = os.getcwd()\n",
    "from notebooks.utils import benchmarking_utils\n",
    "benchmarking_utils.print_inference_benchmark_table()"
   ]
  },
  {
   "cell_type": "code",
   "execution_count": null,
   "id": "080732d9",
   "metadata": {},
   "outputs": [],
   "source": [
    "import os\n",
    "import sys\n",
    "if not 'workbookDir' in globals():\n",
    "    import os\n",
    "    workbookDir = os.getcwd()\n",
    "from notebooks.utils import benchmarking_utils\n",
    "benchmarking_utils.print_inference_benchmark_bargraph()"
   ]
  }
 ],
 "metadata": {
  "kernelspec": {
   "display_name": "Python [conda env:networkintrusiondetection_stock]",
   "language": "python",
   "name": "conda-env-networkintrusiondetection_stock-py"
  },
  "language_info": {
   "codemirror_mode": {
    "name": "ipython",
    "version": 3
   },
   "file_extension": ".py",
   "mimetype": "text/x-python",
   "name": "python",
   "nbconvert_exporter": "python",
   "pygments_lexer": "ipython3",
   "version": "3.9.7"
  },
  "vscode": {
   "interpreter": {
    "hash": "069f3196357d110160ed2166d99fab00da978d997cfdeeadaab74238093b8690"
   }
  }
 },
 "nbformat": 4,
 "nbformat_minor": 5
}
